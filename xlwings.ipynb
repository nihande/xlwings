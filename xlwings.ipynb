{
 "cells": [
  {
   "cell_type": "code",
   "execution_count": 154,
   "id": "3ba8bbef-1a80-44ba-a79d-1c98332943b0",
   "metadata": {},
   "outputs": [
    {
     "name": "stdout",
     "output_type": "stream",
     "text": [
      "Aug23\n"
     ]
    },
    {
     "data": {
      "text/html": [
       "<div>\n",
       "<style scoped>\n",
       "    .dataframe tbody tr th:only-of-type {\n",
       "        vertical-align: middle;\n",
       "    }\n",
       "\n",
       "    .dataframe tbody tr th {\n",
       "        vertical-align: top;\n",
       "    }\n",
       "\n",
       "    .dataframe thead th {\n",
       "        text-align: right;\n",
       "    }\n",
       "</style>\n",
       "<table border=\"1\" class=\"dataframe\">\n",
       "  <thead>\n",
       "    <tr style=\"text-align: right;\">\n",
       "      <th></th>\n",
       "      <th>s/n</th>\n",
       "      <th>prod id</th>\n",
       "      <th>prod name</th>\n",
       "      <th>date</th>\n",
       "      <th>code</th>\n",
       "      <th>weight</th>\n",
       "      <th>2023-08-23 00:00:00</th>\n",
       "    </tr>\n",
       "  </thead>\n",
       "  <tbody>\n",
       "    <tr>\n",
       "      <th>0</th>\n",
       "      <td>12</td>\n",
       "      <td>1</td>\n",
       "      <td>p1</td>\n",
       "      <td>2023-08-10</td>\n",
       "      <td>sdfg</td>\n",
       "      <td>15</td>\n",
       "      <td>15</td>\n",
       "    </tr>\n",
       "    <tr>\n",
       "      <th>1</th>\n",
       "      <td>15</td>\n",
       "      <td>2</td>\n",
       "      <td>p2</td>\n",
       "      <td>2023-08-10</td>\n",
       "      <td>hjfg</td>\n",
       "      <td>15</td>\n",
       "      <td>15</td>\n",
       "    </tr>\n",
       "    <tr>\n",
       "      <th>2</th>\n",
       "      <td>18</td>\n",
       "      <td>3</td>\n",
       "      <td>p3</td>\n",
       "      <td>2023-08-10</td>\n",
       "      <td>s df</td>\n",
       "      <td>17</td>\n",
       "      <td>17</td>\n",
       "    </tr>\n",
       "    <tr>\n",
       "      <th>3</th>\n",
       "      <td>17</td>\n",
       "      <td>4</td>\n",
       "      <td>p4</td>\n",
       "      <td>2023-08-10</td>\n",
       "      <td>dfhj</td>\n",
       "      <td>3</td>\n",
       "      <td>3</td>\n",
       "    </tr>\n",
       "    <tr>\n",
       "      <th>4</th>\n",
       "      <td>39</td>\n",
       "      <td>5</td>\n",
       "      <td>p5</td>\n",
       "      <td>2023-08-10</td>\n",
       "      <td>e gh</td>\n",
       "      <td>80</td>\n",
       "      <td>80</td>\n",
       "    </tr>\n",
       "  </tbody>\n",
       "</table>\n",
       "</div>"
      ],
      "text/plain": [
       "   s/n  prod id prod name      date   code  weight  2023-08-23 00:00:00\n",
       "0   12        1        p1 2023-08-10  sdfg      15                   15\n",
       "1   15        2        p2 2023-08-10  hjfg      15                   15\n",
       "2   18        3        p3 2023-08-10  s df      17                   17\n",
       "3   17        4        p4 2023-08-10  dfhj       3                    3\n",
       "4   39        5        p5 2023-08-10  e gh      80                   80"
      ]
     },
     "execution_count": 154,
     "metadata": {},
     "output_type": "execute_result"
    }
   ],
   "source": [
    "import pandas as pd\n",
    "import datetime\n",
    "import xlwings\n",
    "a=datetime.datetime.now().strftime(\"%b%y\")\n",
    "print(a)\n",
    "file=pd.read_excel(fr\"C:\\\\Users\\\\Dell\\\\Desktop\\\\xyz\\\\{a}\\\\abc {a}.xlsx\")\n",
    "file"
   ]
  },
  {
   "cell_type": "code",
   "execution_count": 155,
   "id": "6b648221-f865-4f47-b95b-8c5ffa547d85",
   "metadata": {},
   "outputs": [
    {
     "name": "stdout",
     "output_type": "stream",
     "text": [
      "$G$1\n",
      "<Range [abc Aug23.xlsx]Sheet1!$H$1>\n",
      "<Range [abc Aug23.xlsx]Sheet1!$H$1>\n",
      "$G$2\n",
      "<Range [abc Aug23.xlsx]Sheet1!$H$2>\n",
      "<Range [abc Aug23.xlsx]Sheet1!$H$2>\n",
      "$G$3\n",
      "<Range [abc Aug23.xlsx]Sheet1!$H$3>\n",
      "<Range [abc Aug23.xlsx]Sheet1!$H$3>\n",
      "$G$4\n",
      "<Range [abc Aug23.xlsx]Sheet1!$H$4>\n",
      "<Range [abc Aug23.xlsx]Sheet1!$H$4>\n",
      "$G$5\n",
      "<Range [abc Aug23.xlsx]Sheet1!$H$5>\n",
      "<Range [abc Aug23.xlsx]Sheet1!$H$5>\n",
      "$G$6\n",
      "<Range [abc Aug23.xlsx]Sheet1!$H$6>\n",
      "<Range [abc Aug23.xlsx]Sheet1!$H$6>\n",
      "$H$1\n",
      "Success\n"
     ]
    }
   ],
   "source": [
    "import xlwings\n",
    "import pandas as pd\n",
    "import datetime\n",
    "a=datetime.datetime.now().strftime(\"%b%y\")\n",
    "filename_read = fr\"C:\\\\Users\\\\Dell\\\\Desktop\\\\xyz\\\\{a}\\\\abc {a}.xlsx\"\n",
    "wb = xw.Book(filename_read)\n",
    "sheet = wb.sheets(\"Sheet1\")\n",
    "rownum = sheet.range('A1').current_region.last_cell.row\n",
    "for row in range(1, rownum+1):\n",
    "    last_cel=sheet[\"A\"+str(int(row))].expand(\"right\").last_cell.address\n",
    "    Next_cell=sheet.range(last_cel).offset(column_offset=+1)\n",
    "    Next_cell.value=sheet.range(last_cel).value\n",
    "last_column = sheet.range('A1').expand(\"right\").last_cell.address\n",
    "name=datetime.datetime.now().strftime(\"%b\")+\"'\"+datetime.datetime.now().strftime(\"%y\")\n",
    "sheet.range(last_column).value = name\n",
    "        \n",
    "print(\"Success\")\n",
    "wb.save(filename_read)\n",
    "wb.close()"
   ]
  },
  {
   "cell_type": "code",
   "execution_count": 109,
   "id": "a52400c6-587c-489d-9bb4-b8abf801678a",
   "metadata": {},
   "outputs": [
    {
     "ename": "AttributeError",
     "evalue": "'Worksheet' object has no attribute 'range'",
     "output_type": "error",
     "traceback": [
      "\u001b[1;31m---------------------------------------------------------------------------\u001b[0m",
      "\u001b[1;31mAttributeError\u001b[0m                            Traceback (most recent call last)",
      "Cell \u001b[1;32mIn[109], line 13\u001b[0m\n\u001b[0;32m      4\u001b[0m sheet \u001b[38;5;241m=\u001b[39m wb[\u001b[38;5;124m'\u001b[39m\u001b[38;5;124mSheet1\u001b[39m\u001b[38;5;124m'\u001b[39m]\n\u001b[0;32m      6\u001b[0m \u001b[38;5;66;03m# for row in sheet.iter_rows(min_row=1, max_row=sheet.max_row, min_col=1, max_col=sheet.max_column):\u001b[39;00m\n\u001b[0;32m      7\u001b[0m \u001b[38;5;66;03m#     last_cell = row[-1]\u001b[39;00m\n\u001b[0;32m      8\u001b[0m \u001b[38;5;66;03m#     print(last_cell)\u001b[39;00m\n\u001b[0;32m      9\u001b[0m \u001b[38;5;66;03m#     if last_cell.value is None:\u001b[39;00m\n\u001b[0;32m     10\u001b[0m \u001b[38;5;66;03m#         previous_cell = row[-2]\u001b[39;00m\n\u001b[0;32m     11\u001b[0m \u001b[38;5;66;03m#         last_cell.value = previous_cell.value\u001b[39;00m\n\u001b[1;32m---> 13\u001b[0m \u001b[38;5;28;01mfor\u001b[39;00m row \u001b[38;5;129;01min\u001b[39;00m \u001b[43msheet\u001b[49m\u001b[38;5;241;43m.\u001b[39;49m\u001b[43mrange\u001b[49m(\u001b[38;5;124m'\u001b[39m\u001b[38;5;124mA1\u001b[39m\u001b[38;5;124m'\u001b[39m)\u001b[38;5;241m.\u001b[39mexpand(\u001b[38;5;124m'\u001b[39m\u001b[38;5;124mdown\u001b[39m\u001b[38;5;124m'\u001b[39m)\u001b[38;5;241m.\u001b[39mrows:\n\u001b[0;32m     14\u001b[0m     last_cell \u001b[38;5;241m=\u001b[39m row[\u001b[38;5;241m-\u001b[39m\u001b[38;5;241m1\u001b[39m]\n\u001b[0;32m     15\u001b[0m     \u001b[38;5;28;01mif\u001b[39;00m last_cell\u001b[38;5;241m.\u001b[39mvalue \u001b[38;5;129;01mis\u001b[39;00m \u001b[38;5;28;01mNone\u001b[39;00m:\n",
      "\u001b[1;31mAttributeError\u001b[0m: 'Worksheet' object has no attribute 'range'"
     ]
    }
   ],
   "source": [
    "from openpyxl import load_workbook\n",
    "\n",
    "wb = load_workbook(r\"C:\\Users\\Dell\\Desktop\\xyz\\Aug23\\abc Aug23.xlsx\")\n",
    "sheet = wb['Sheet1']\n",
    "\n",
    "# for row in sheet.iter_rows(min_row=1, max_row=sheet.max_row, min_col=1, max_col=sheet.max_column):\n",
    "#     last_cell = row[-1]\n",
    "#     print(last_cell)\n",
    "#     if last_cell.value is None:\n",
    "#         previous_cell = row[-2]\n",
    "#         last_cell.value = previous_cell.value\n",
    "\n",
    "\n",
    "wb.save(r'C:\\Users\\Dell\\Desktop\\xyz\\Aug23\\abc Aug23.xlsx')\n",
    "wb.close()\n",
    "print('success')"
   ]
  }
 ],
 "metadata": {
  "kernelspec": {
   "display_name": "Python 3 (ipykernel)",
   "language": "python",
   "name": "python3"
  },
  "language_info": {
   "codemirror_mode": {
    "name": "ipython",
    "version": 3
   },
   "file_extension": ".py",
   "mimetype": "text/x-python",
   "name": "python",
   "nbconvert_exporter": "python",
   "pygments_lexer": "ipython3",
   "version": "3.11.4"
  }
 },
 "nbformat": 4,
 "nbformat_minor": 5
}
